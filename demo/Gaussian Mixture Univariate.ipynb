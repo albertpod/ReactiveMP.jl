{
 "cells": [
  {
   "cell_type": "code",
   "execution_count": 1,
   "metadata": {},
   "outputs": [
    {
     "name": "stderr",
     "output_type": "stream",
     "text": [
      "┌ Info: Precompiling ReactiveMP [a194aa59-28ba-4574-a09c-4a745416d6e3]\n",
      "└ @ Base loading.jl:1342\n"
     ]
    }
   ],
   "source": [
    "using Rocket\n",
    "using ReactiveMP\n",
    "using GraphPPL\n",
    "using Distributions\n",
    "using Random\n",
    "using BenchmarkTools"
   ]
  },
  {
   "cell_type": "code",
   "execution_count": 2,
   "metadata": {},
   "outputs": [
    {
     "data": {
      "text/plain": [
       "gaussian_mixture_model (generic function with 1 method)"
      ]
     },
     "execution_count": 2,
     "metadata": {},
     "output_type": "execute_result"
    }
   ],
   "source": [
    "@model [ default_factorisation = MeanField() ] function gaussian_mixture_model(n)\n",
    "    \n",
    "    s ~ Beta(1.0, 1.0)\n",
    "    \n",
    "    m1 ~ NormalMeanVariance(-2.0, 1e3)\n",
    "    w1 ~ GammaShapeRate(0.01, 0.01)\n",
    "    \n",
    "    m2 ~ NormalMeanVariance(2.0, 1e3)\n",
    "    w2 ~ GammaShapeRate(0.01, 0.01)\n",
    "    \n",
    "    z = randomvar(n)\n",
    "    y = datavar(Float64, n)\n",
    "    \n",
    "    for i in 1:n\n",
    "        z[i] ~ Bernoulli(s)\n",
    "        y[i] ~ NormalMixture(z[i], (m1, m2), (w1, w2))\n",
    "    end\n",
    "    \n",
    "    scheduler = schedule_updates(m1, m2, w1, w2)\n",
    "    \n",
    "    return s, m1, w1, m2, w2, z, y, scheduler\n",
    "end"
   ]
  },
  {
   "cell_type": "code",
   "execution_count": 3,
   "metadata": {},
   "outputs": [],
   "source": [
    "using Random"
   ]
  },
  {
   "cell_type": "code",
   "execution_count": 4,
   "metadata": {},
   "outputs": [
    {
     "data": {
      "text/plain": [
       "inference (generic function with 1 method)"
      ]
     },
     "execution_count": 4,
     "metadata": {},
     "output_type": "execute_result"
    }
   ],
   "source": [
    "function inference(data, n_its)\n",
    "    n = length(data)\n",
    "    model, (s, m1, w1, m2, w2, z, y, scheduler) = gaussian_mixture_model(n);\n",
    "    \n",
    "    mswitch = Vector{Marginal}()\n",
    "    mm1 = Vector{Marginal}()\n",
    "    mm2 = Vector{Marginal}()\n",
    "    mw1 = Vector{Marginal}()\n",
    "    mw2 = Vector{Marginal}()\n",
    "    \n",
    "    fe = Vector{Float64}()\n",
    "    \n",
    "    m1sub = subscribe!(getmarginal(m1, IncludeAll()), (ms) -> push!(mm1, ms))\n",
    "    m2sub = subscribe!(getmarginal(m2, IncludeAll()), (ms) -> push!(mm2, ms))\n",
    "    w1sub = subscribe!(getmarginal(w1, IncludeAll()), (ms) -> push!(mw1, ms))\n",
    "    w2sub = subscribe!(getmarginal(w2, IncludeAll()), (ms) -> push!(mw2, ms))\n",
    "    switchsub = subscribe!(getmarginal(s, IncludeAll()), (ms) -> push!(mswitch, ms))\n",
    "    \n",
    "    fesub = subscribe!(score(BetheFreeEnergy(), model), (f) -> push!(fe, f))\n",
    "    \n",
    "    setmarginal!(s, vague(Beta))\n",
    "    setmarginal!(m1, NormalMeanVariance(-2.0, 1e3))\n",
    "    setmarginal!(m2, NormalMeanVariance(2.0, 1e3))\n",
    "    setmarginal!(w1, vague(GammaShapeRate))\n",
    "    setmarginal!(w2, vague(GammaShapeRate))\n",
    "    \n",
    "    for i in 1:n_its\n",
    "        update!(y, data)\n",
    "        release!(scheduler)\n",
    "    end\n",
    "    \n",
    "    unsubscribe!(fesub)\n",
    "    unsubscribe!(switchsub)\n",
    "    unsubscribe!(m1sub)\n",
    "    unsubscribe!(m2sub)\n",
    "    unsubscribe!(w1sub)\n",
    "    unsubscribe!(w2sub)\n",
    "    \n",
    "    return mswitch, mm1, mm2, mw1, mw2, fe\n",
    "end"
   ]
  },
  {
   "cell_type": "code",
   "execution_count": 5,
   "metadata": {},
   "outputs": [],
   "source": [
    "n = 50\n",
    "\n",
    "Random.seed!(124)\n",
    "\n",
    "switch = [ 1/3, 2/3 ]\n",
    "z      = rand(Categorical(switch), n)\n",
    "y      = Vector{Float64}(undef, n)\n",
    "\n",
    "μ1 = -10.0\n",
    "μ2 = 10.0\n",
    "w  = 1.777\n",
    "\n",
    "dists = [\n",
    "    Normal(μ1, sqrt(inv(w))),\n",
    "    Normal(μ2, sqrt(inv(w))),\n",
    "]\n",
    "\n",
    "for i in 1:n\n",
    "    y[i] = rand(dists[z[i]])\n",
    "end"
   ]
  },
  {
   "cell_type": "code",
   "execution_count": 6,
   "metadata": {},
   "outputs": [
    {
     "data": {
      "text/plain": [
       "BenchmarkTools.Trial: 571 samples with 1 evaluation.\n",
       " Range \u001b[90m(\u001b[39m\u001b[36m\u001b[1mmin\u001b[22m\u001b[39m … \u001b[35mmax\u001b[39m\u001b[90m):  \u001b[39m\u001b[36m\u001b[1m7.162 ms\u001b[22m\u001b[39m … \u001b[35m16.807 ms\u001b[39m  \u001b[90m┊\u001b[39m GC \u001b[90m(\u001b[39mmin … max\u001b[90m): \u001b[39m 0.00% … 39.55%\n",
       " Time  \u001b[90m(\u001b[39m\u001b[34m\u001b[1mmedian\u001b[22m\u001b[39m\u001b[90m):     \u001b[39m\u001b[34m\u001b[1m7.772 ms              \u001b[22m\u001b[39m\u001b[90m┊\u001b[39m GC \u001b[90m(\u001b[39mmedian\u001b[90m):    \u001b[39m 0.00%\n",
       " Time  \u001b[90m(\u001b[39m\u001b[32m\u001b[1mmean\u001b[22m\u001b[39m ± \u001b[32mσ\u001b[39m\u001b[90m):   \u001b[39m\u001b[32m\u001b[1m8.750 ms\u001b[22m\u001b[39m ± \u001b[32m 2.365 ms\u001b[39m  \u001b[90m┊\u001b[39m GC \u001b[90m(\u001b[39mmean ± σ\u001b[90m):  \u001b[39m10.35% ± 15.43%\n",
       "\n",
       "  \u001b[39m \u001b[39m▃\u001b[39m█\u001b[39m▇\u001b[34m█\u001b[39m\u001b[39m▅\u001b[39m▄\u001b[39m▃\u001b[39m▂\u001b[39m▁\u001b[39m \u001b[39m \u001b[32m \u001b[39m\u001b[39m \u001b[39m \u001b[39m \u001b[39m \u001b[39m \u001b[39m \u001b[39m \u001b[39m \u001b[39m \u001b[39m \u001b[39m \u001b[39m \u001b[39m \u001b[39m \u001b[39m \u001b[39m \u001b[39m \u001b[39m \u001b[39m \u001b[39m \u001b[39m \u001b[39m \u001b[39m \u001b[39m \u001b[39m \u001b[39m \u001b[39m \u001b[39m \u001b[39m \u001b[39m \u001b[39m \u001b[39m \u001b[39m \u001b[39m \u001b[39m \u001b[39m \u001b[39m \u001b[39m \u001b[39m▂\u001b[39m▂\u001b[39m▃\u001b[39m \u001b[39m \u001b[39m \u001b[39m \u001b[39m \u001b[39m \n",
       "  \u001b[39m▇\u001b[39m█\u001b[39m█\u001b[39m█\u001b[34m█\u001b[39m\u001b[39m█\u001b[39m█\u001b[39m█\u001b[39m█\u001b[39m█\u001b[39m█\u001b[39m▇\u001b[32m▄\u001b[39m\u001b[39m▁\u001b[39m▅\u001b[39m▅\u001b[39m▄\u001b[39m▄\u001b[39m▁\u001b[39m▄\u001b[39m▁\u001b[39m▁\u001b[39m▁\u001b[39m▁\u001b[39m▁\u001b[39m▁\u001b[39m▁\u001b[39m▁\u001b[39m▁\u001b[39m▁\u001b[39m▁\u001b[39m▁\u001b[39m▁\u001b[39m▁\u001b[39m▁\u001b[39m▄\u001b[39m▁\u001b[39m▁\u001b[39m▁\u001b[39m▁\u001b[39m▁\u001b[39m▁\u001b[39m▁\u001b[39m▁\u001b[39m▁\u001b[39m▁\u001b[39m▄\u001b[39m▁\u001b[39m▄\u001b[39m▄\u001b[39m▇\u001b[39m█\u001b[39m█\u001b[39m█\u001b[39m▆\u001b[39m▇\u001b[39m█\u001b[39m▇\u001b[39m \u001b[39m▇\n",
       "  7.16 ms\u001b[90m      \u001b[39m\u001b[90mHistogram: \u001b[39m\u001b[90m\u001b[1mlog(\u001b[22m\u001b[39m\u001b[90mfrequency\u001b[39m\u001b[90m\u001b[1m)\u001b[22m\u001b[39m\u001b[90m by time\u001b[39m       15 ms \u001b[0m\u001b[1m<\u001b[22m\n",
       "\n",
       " Memory estimate\u001b[90m: \u001b[39m\u001b[33m6.77 MiB\u001b[39m, allocs estimate\u001b[90m: \u001b[39m\u001b[33m115048\u001b[39m."
      ]
     },
     "execution_count": 6,
     "metadata": {},
     "output_type": "execute_result"
    }
   ],
   "source": [
    "@benchmark inference($y, 10)"
   ]
  },
  {
   "cell_type": "code",
   "execution_count": 7,
   "metadata": {},
   "outputs": [
    {
     "name": "stdout",
     "output_type": "stream",
     "text": [
      "  0.018971 seconds (117.72 k allocations: 6.939 MiB, 51.04% compilation time)\n"
     ]
    }
   ],
   "source": [
    "@time mswitch, mm1, mm2, mw1, mw2, fe = inference(y, 10);"
   ]
  },
  {
   "cell_type": "code",
   "execution_count": 8,
   "metadata": {},
   "outputs": [
    {
     "data": {
      "text/plain": [
       "dim (generic function with 1 method)"
      ]
     },
     "execution_count": 8,
     "metadata": {},
     "output_type": "execute_result"
    }
   ],
   "source": [
    "using Plots\n",
    "\n",
    "dim(d) = (a) -> map(r -> r[d], a)"
   ]
  },
  {
   "cell_type": "code",
   "execution_count": null,
   "metadata": {},
   "outputs": [],
   "source": [
    "mp = plot(mean.(mm1), ribbon = var.(mm1) .|> sqrt, label = \"m1 prediction\")\n",
    "mp = plot!(mean.(mm2), ribbon = var.(mm2) .|> sqrt, label = \"m2 prediction\")\n",
    "mp = plot!(mp, [ μ1 ], seriestype = :hline, label = \"real m1\")\n",
    "mp = plot!(mp, [ μ2 ], seriestype = :hline, label = \"real m2\")\n",
    "\n",
    "wp = plot(mean.(mw1), ribbon = var.(mw1) .|> sqrt, label = \"w1 prediction\", legend = :bottomleft, ylim = (-1, 3))\n",
    "wp = plot!(wp, [ w ], seriestype = :hline, label = \"real w1\")\n",
    "wp = plot!(wp, mean.(mw2), ribbon = var.(mw2) .|> sqrt, label = \"w2 prediction\")\n",
    "wp = plot!(wp, [ w ], seriestype = :hline, label = \"real w2\")\n",
    "\n",
    "swp = plot(mean.(mswitch), ribbon = var.(mswitch) .|> sqrt, label = \"Switch prediction\")\n",
    "\n",
    "swp = plot!(swp, [ switch[1] ], seriestype = :hline, label = \"switch[1]\")\n",
    "swp = plot!(swp, [ switch[2] ], seriestype = :hline, label = \"switch[2]\")\n",
    "\n",
    "fep = plot(fe[2:end], label = \"Free Energy\", legend = :bottomleft)\n",
    "\n",
    "plot(mp, wp, swp, fep, layout = @layout([ a b; c d ]), size = (1000, 700))"
   ]
  },
  {
   "cell_type": "code",
   "execution_count": null,
   "metadata": {},
   "outputs": [],
   "source": []
  }
 ],
 "metadata": {
  "kernelspec": {
   "display_name": "Julia 1.6.3",
   "language": "julia",
   "name": "julia-1.6"
  },
  "language_info": {
   "file_extension": ".jl",
   "mimetype": "application/julia",
   "name": "julia",
   "version": "1.6.3"
  }
 },
 "nbformat": 4,
 "nbformat_minor": 4
}
